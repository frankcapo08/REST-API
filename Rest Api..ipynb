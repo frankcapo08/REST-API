{
 "cells": [
  {
   "cell_type": "markdown",
   "metadata": {},
   "source": [
    "Crear distintos tipos de request con diferentes metodos para hacer llamados.\n",
    "Luego copiar el response debajo de la url\n"
   ]
  },
  {
   "cell_type": "markdown",
   "metadata": {},
   "source": [
    "-------------------------------------------------------------------"
   ]
  },
  {
   "cell_type": "markdown",
   "metadata": {},
   "source": [
    "REQUEST:\n"
   ]
  },
  {
   "cell_type": "markdown",
   "metadata": {},
   "source": [
    "GET https://reqres.in/api/users/2"
   ]
  },
  {
   "cell_type": "markdown",
   "metadata": {},
   "source": [
    "RESPONSE: STATUS 200 OK\n"
   ]
  },
  {
   "cell_type": "code",
   "execution_count": null,
   "metadata": {},
   "outputs": [],
   "source": [
    "\n",
    "{\n",
    "    \"data\": {\n",
    "        \"id\": 2,\n",
    "        \"email\": \"janet.weaver@reqres.in\",\n",
    "        \"first_name\": \"Janet\",\n",
    "        \"last_name\": \"Weaver\",\n",
    "        \"avatar\": \"https://reqres.in/img/faces/2-image.jpg\"\n",
    "    },\n",
    "    \"support\": {\n",
    "        \"url\": \"https://reqres.in/#support-heading\",\n",
    "        \"text\": \"To keep ReqRes free, contributions towards server costs are appreciated!\"\n",
    "    }\n",
    "}\n"
   ]
  },
  {
   "cell_type": "markdown",
   "metadata": {},
   "source": [
    "-------------------------------------------------------------------"
   ]
  },
  {
   "cell_type": "markdown",
   "metadata": {},
   "source": [
    "REQUEST:"
   ]
  },
  {
   "cell_type": "markdown",
   "metadata": {},
   "source": [
    "POST https://reqres.in/api/users\n",
    "\n",
    "\n"
   ]
  },
  {
   "cell_type": "code",
   "execution_count": null,
   "metadata": {},
   "outputs": [],
   "source": [
    "Body\n",
    "\n",
    "{\n",
    "    \"name\": \"Franco\",\n",
    "    \"job\": \"Student\"\n",
    "}"
   ]
  },
  {
   "cell_type": "markdown",
   "metadata": {},
   "source": [
    "RESPONSE: STATUS 201 CREATED"
   ]
  },
  {
   "cell_type": "code",
   "execution_count": null,
   "metadata": {},
   "outputs": [],
   "source": [
    "Body\n",
    "\n",
    "{\n",
    "    \"name\": \"Franco\",\n",
    "    \"job\": \"Student\",\n",
    "    \"id\": \"896\",\n",
    "    \"createdAt\": \"2024-10-23T03:02:08.246Z\"\n",
    "}"
   ]
  },
  {
   "cell_type": "markdown",
   "metadata": {},
   "source": [
    "-------------------------------------------------------------------"
   ]
  },
  {
   "cell_type": "markdown",
   "metadata": {},
   "source": [
    "REQUEST:"
   ]
  },
  {
   "cell_type": "markdown",
   "metadata": {},
   "source": [
    "PATCH https://reqres.in/api/users/2"
   ]
  },
  {
   "cell_type": "code",
   "execution_count": null,
   "metadata": {},
   "outputs": [],
   "source": [
    "Body\n",
    "\n",
    "{\n",
    "    \"name\": \"Gustavo\",\n",
    "    \"job\": \"zion resident\"\n",
    "}"
   ]
  },
  {
   "cell_type": "markdown",
   "metadata": {},
   "source": [
    "RESPONSE: STATUS 200 OK"
   ]
  },
  {
   "cell_type": "code",
   "execution_count": null,
   "metadata": {},
   "outputs": [],
   "source": [
    "Body\n",
    "\n",
    "{\n",
    "    \"name\": \"Gustavo\",\n",
    "    \"job\": \"zion resident\",\n",
    "    \"updatedAt\": \"2024-10-23T03:19:26.405Z\"\n",
    "}"
   ]
  },
  {
   "cell_type": "markdown",
   "metadata": {},
   "source": [
    "-------------------------------------------------------------------"
   ]
  },
  {
   "cell_type": "markdown",
   "metadata": {},
   "source": [
    "REQUEST:"
   ]
  },
  {
   "cell_type": "markdown",
   "metadata": {},
   "source": [
    "DELETE https://reqres.in/api/users/2 "
   ]
  },
  {
   "cell_type": "markdown",
   "metadata": {},
   "source": [
    "RESPONSE: STATUS 204 "
   ]
  },
  {
   "cell_type": "code",
   "execution_count": null,
   "metadata": {},
   "outputs": [],
   "source": [
    "Body\n",
    "\n",
    "\n",
    "{\n",
    "\n",
    "\n",
    "}"
   ]
  },
  {
   "cell_type": "markdown",
   "metadata": {},
   "source": [
    "-------------------------------------------------------------------"
   ]
  },
  {
   "cell_type": "markdown",
   "metadata": {},
   "source": [
    "REQUEST:"
   ]
  },
  {
   "cell_type": "markdown",
   "metadata": {},
   "source": [
    "POST https://reqres.in/api/register"
   ]
  },
  {
   "cell_type": "code",
   "execution_count": null,
   "metadata": {},
   "outputs": [],
   "source": [
    "Body\n",
    "\n",
    "{\n",
    "    \"email\": \"eve.holt@reqres.in\",\n",
    "    \"password\": \"pistol\"\n",
    "}"
   ]
  },
  {
   "cell_type": "markdown",
   "metadata": {},
   "source": [
    "RESPONSE: STATUS 200 "
   ]
  },
  {
   "cell_type": "code",
   "execution_count": null,
   "metadata": {},
   "outputs": [],
   "source": [
    "Body\n",
    "\n",
    "{\n",
    "    \"id\": 4,\n",
    "    \"token\": \"QpwL5tke4Pnpja7X4\"\n",
    "}"
   ]
  },
  {
   "cell_type": "markdown",
   "metadata": {},
   "source": [
    "-------------------------------------------------------------------"
   ]
  }
 ],
 "metadata": {
  "kernelspec": {
   "display_name": "Python 3",
   "language": "python",
   "name": "python3"
  },
  "language_info": {
   "codemirror_mode": {
    "name": "ipython",
    "version": 3
   },
   "file_extension": ".py",
   "mimetype": "text/x-python",
   "name": "python",
   "nbconvert_exporter": "python",
   "pygments_lexer": "ipython3",
   "version": "3.12.5"
  }
 },
 "nbformat": 4,
 "nbformat_minor": 2
}
